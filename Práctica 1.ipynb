{
 "cells": [
  {
   "attachments": {},
   "cell_type": "markdown",
   "metadata": {},
   "source": [
    "# Introducción al Laboratorio de Inteligencia Artificial (IDS330)\n",
    "\n",
    "**Febrero - Abril 2023**  \n",
    "Iván E. Jiménez Durán\n",
    "\n",
    "En este laboratorio estaremos explorando diferentes aplicaciones de herramientas de inteligencia artificial para la visión de máquina.\n",
    "\n",
    "Se estará trabajando con las herramientas como TensorFlow, Keras y otras, junto a OpenCV, para hacer algunas tareas relacionadas a la extracción de información de imágenes.\n",
    "\n",
    "## Trabajo\n",
    "\n",
    "En el trimestre tendremos cuatro prácticas semanales con un valor de 15 pts., y una práctica o proyecto final con valor de 40 puntos.\n",
    "\n",
    "Cada práctica será entregada como un archivo ZIP que incluya **libro de Jupyter** con:\n",
    "\n",
    "- El trabajo de la práctica con resultados documentado,\n",
    "- Análisis de los resultados que demuestren compresión del proceso,\n",
    "\n",
    "y acompañado de cualquier otro archivo producido o utilizado en la práctica que no haya sido incluido originalmente en la asignación.\n",
    "\n",
    "Las entregas se harán por medio del aula virtual con fecha de la hora de clase de cada semana, y tendrán **cuatro (4) días** para entregas tardías, para acomodar los improvistos. Luego de los 4 días, **no se aceptará el trabajo**.\n",
    "\n",
    "## Preparación del entorno para visión de máquina con inteligencia artificial\n",
    "\n",
    "Para el trabajo estaremos usando Python con librerías disponibles para instalar tanto en Anaconda como con `pip`. En este caso, se estará trabajando con un ambiente de Anaconda para facilidad de algunas cosas, pero queda a decisión del estudiante cómo implementarlo.\n",
    "\n",
    "El consejo principal es trabajar con un ambiente virtual de Python para evitar complicaciones con otros proyectos.\n",
    "\n",
    "## Material\n",
    "\n",
    "Estaremos utilizando como base teórica de referencia el libro mostrado abajo, y como apoyo para algunas prácticas, los dos mostrados más abajo. Todos los libros están disponibles en Full PDF desde la biblioteca del INTEC.\n",
    "\n",
    "### Libro de Referencia\n",
    "\n",
    "**Hands-On Computer Vision with TensorFlow 2 : Leverage Deep Learning to Create Powerful Image Processing Apps with TensorFlow 2.0 and Keras**  \n",
    "Benjamin Planche & Eliot Andres, 2019  \n",
    "Descargable en:  \n",
    "https://ez.intec.edu.do/login?url=https://search.ebscohost.com/login.aspx?direct=true&db=nlebk&AN=2149484&lang=es&site=eds-live&ebv=EB&ppid=pp_Cover\n",
    "\n",
    "Material para acompañar el Libro de Referencia (Planche & Andres, 2019) en https://github.com/PacktPublishing/Hands-On-Computer-Vision-with-TensorFlow-2\n",
    "\n",
    "### Libros de Apoyo\n",
    "\n",
    "**Computer Vision Projects with OpenCV and Python 3: Six end-to-end projects built using machine learning with OpenCV, Python, and TensorFlow**  \n",
    "Matthew Rever, 2018\n",
    "\n",
    "**Practical Computer Vision : Extract Insightful Information From Images Using TensorFlow, Keras, and OpenCV**  \n",
    "Abhinav Dadhich 2018\n"
   ]
  },
  {
   "attachments": {},
   "cell_type": "markdown",
   "metadata": {},
   "source": [
    "## Instalación\n",
    "\n",
    "1. Seguir las recomendaciones para instalar la versión adecuada de Anaconda (o su distribución preferida de Python).\n",
    "\n",
    "   En el caso de usar Anaconda, conviene actualizar la instalación para facilitar los procesos subsecuentes. Idealmente, se puede instalar Anaconda y registrarlo en el PATH para que los ejecutables estén disponibles para cualquier programa, pero esto queda a elección del estudiante.\n",
    "\n",
    "   En el proceso de trabajo, se ignora la versión de terminal que use el estudiante (PowerShell, CMD, Bash, Zsh, etc.), así que se mostrarán solo los comandos base para correr los programas.\n",
    "\n",
    "2. Una vez instalado Anaconda, proceder a preparar el sistema\n",
    "\n",
    "   Actualizar Anaconda (también actualiza el repositorio y el ambiente local)\n",
    "\n",
    "   ```bash\n",
    "    conda update -n base -c defaults conda\n",
    "   ```\n"
   ]
  },
  {
   "attachments": {},
   "cell_type": "markdown",
   "metadata": {},
   "source": [
    "3. Crear un ambiente virtual para trabajar (según https://conda.io/projects/conda/en/latest/user-guide/tasks/manage-environments.html)\n",
    "   En este caso, el ambiente virtual se llamaría `ids-ai`, pero puede elegir el que quiera.\n",
    "\n",
    "   ```bash\n",
    "    conda create --name ids-ai\n",
    "   ```\n",
    "\n",
    "   Habilitar pip en el ambiente\n",
    "\n",
    "   ```bash\n",
    "    conda install -n ids-ai pip\n",
    "\n",
    "    conda activate ids-ai\n",
    "   ```\n"
   ]
  },
  {
   "attachments": {},
   "cell_type": "markdown",
   "metadata": {},
   "source": [
    "4. Desde dentro del ambiente virtual, instalar los paquetes necesarios\n",
    "\n",
    "   Instalar librerías base:\n",
    "\n",
    "   ```bash\n",
    "   $ conda install scipy numpy matplotlib\n",
    "   ```\n",
    "\n",
    "   Instalar OpenCV desde Anaconda (binarios no optimizados para la tarjeta gráfica). El anterior ya ha instalado la mayoría de las dependencias.\n",
    "\n",
    "   ```bash\n",
    "   $ conda install -c conda-forge opencv\n",
    "   ```\n",
    "\n",
    "   Instalar Tensorflow/Keras , usando pip. En este ejemplo se usa la versión para en PC y que funciona con la CPU `tensorflow-cpu`, pero también se pueden instalar `tensorflow` o `tensorlow-gpu` si se cuenta con una tarjeta NVIDIA y las librerías para CUDA. Ver https://www.tensorflow.org/install?hl=es-419 para más información.\n",
    "\n",
    "   ```bash\n",
    "   $ pip install tensorflow-cpu\n",
    "   ```\n",
    "\n",
    "   Verificar la instalación con\n",
    "\n",
    "   ```bash\n",
    "   $ python3 -c \"import tensorflow as tf; print(tf.reduce_sum(tf.random.normal([1000, 1000])))\"\n",
    "   ```\n",
    "\n",
    "   o (si solo se tiene python3 instalado, Anaconda, o algún sistema que tenga solo una versión de Python):\n",
    "\n",
    "   ```bash\n",
    "   $ python -c \"import tensorflow as tf; print(tf.reduce_sum(tf.random.normal([1000, 1000])))\"\n",
    "   ```\n",
    "\n",
    "   Este comando debería responder con un mensaje indicando que se pudo crear un objeto de tipo `tf`. Algo como:\n",
    "\n",
    "   ```Python\n",
    "    tf.Tensor(-915.30225, shape=(), dtype=float32)\n",
    "   ```\n"
   ]
  },
  {
   "attachments": {},
   "cell_type": "markdown",
   "metadata": {},
   "source": [
    "# Práctica\n",
    "\n",
    "La práctica inicial nos servirá para poner a prueba parte de la instalación del sistema y a integrarnos a uno de los primeros acercamientos de implementar funciones basadas en la inteligencia humana en una máquina: la neurona.\n",
    "\n",
    "En las páginas 9-23 del libro de (Planche & Andres, 2019), se presenta una descripción rápida y fácil de los retos y procesos de visión por computadora (pgs. < 19) y sobre los intentos de utilizar inteligencia artificial para visión (pgs. >18). Es importante leer esta parte para comprender el reto al que nos enfrentamos.\n",
    "\n",
    "## Implementación de una Neurona\n",
    "\n",
    "Como ejercicio, probaremos la implementación de una neurona para funcionar como lo explica el libro en las páginas 26-31. Siguiendo el modelo matemático de una suma ponderada y una función de activación para generar una respuesta (salida) a los diferentes estímulos que recibe la neurona (entradas).\n",
    "\n",
    "Esta sección sigue los pasos mostrados en el notebook de acompañamiento al capítulo 1 del libro, que está publicado en https://github.com/PacktPublishing/Hands-On-Computer-Vision-with-TensorFlow-2/tree/master/Chapter01\n",
    "\n",
    "## Importación del ambiente\n",
    "\n",
    "Todo esto sería ejecutado en el entorno virtual que creamos al inicio.\n"
   ]
  },
  {
   "cell_type": "code",
   "execution_count": 8,
   "metadata": {},
   "outputs": [],
   "source": [
    "import numpy as np\n",
    "# Fixing the seed for the random number generation, to get reproducable results.\n",
    "np.random.seed(42)\n"
   ]
  },
  {
   "cell_type": "markdown",
   "metadata": {},
   "source": [
    "Creación de una neurona.\n"
   ]
  },
  {
   "cell_type": "code",
   "execution_count": 7,
   "metadata": {},
   "outputs": [],
   "source": [
    "class Neuron(object):\n",
    "    \"\"\"\n",
    "    A simple artificial neuron, processing an input vector and returning a corresponding activation.\n",
    "    Args:\n",
    "        num_inputs (int): The input vector size / number of input values.\n",
    "        activation_function (callable): The activation function defining this neuron.\n",
    "    Attributes:\n",
    "        W (ndarray): The weight values for each input.\n",
    "        b (float): The bias value, added to the weighted sum.\n",
    "        activation_function (callable): The activation function computing the neuron's output.\n",
    "    \"\"\"\n",
    "\n",
    "    def __init__(self, num_inputs, activation_function):\n",
    "        super().__init__()\n",
    "\n",
    "        # Randomly initializing the weight vector and the bias value (e.g., using a simplistic\n",
    "        # uniform distribution between -1 and 1):\n",
    "        self.W = np.random.uniform(size=num_inputs, low=-1., high=1.)\n",
    "        self.b = np.random.uniform(size=1, low=-1., high=1.)\n",
    "\n",
    "        self.activation_function = activation_function\n",
    "\n",
    "    def forward(self, x):\n",
    "        \"\"\"\n",
    "        Forward the input signal through the neuron, returning its activation value.\n",
    "        Args:\n",
    "            x (ndarray): The input vector, of shape `(1, num_inputs)`\n",
    "        Returns:\n",
    "            activation (ndarray): The activation value, of shape `(1, layer_size)`.\n",
    "        \"\"\"\n",
    "        z = np.dot(x, self.W) + self.b\n",
    "        return self.activation_function(z)\n"
   ]
  },
  {
   "attachments": {},
   "cell_type": "markdown",
   "metadata": {},
   "source": [
    "Instanciación de una neurona para generar un perceptrón.\n"
   ]
  },
  {
   "cell_type": "code",
   "execution_count": null,
   "metadata": {},
   "outputs": [],
   "source": [
    "# Perceptron input size:\n",
    "input_size = 3\n",
    "\n",
    "# Step function (returns 0 if y <= 0, or 1 if y > 0):\n",
    "\n",
    "\n",
    "def step_function(y): return 0 if y <= 0 else 1\n",
    "\n",
    "\n",
    "# Instantiating the perceptron:\n",
    "perceptron = Neuron(num_inputs=input_size, activation_function=step_function)\n",
    "print(\"Perceptron's random weights = {} , and random bias = {}\".format(\n",
    "    perceptron.W, perceptron.b))\n"
   ]
  },
  {
   "attachments": {},
   "cell_type": "markdown",
   "metadata": {},
   "source": [
    "Probar el perceptron con una entrada aleatoria (un vector de 3 columnas de valores aleatorias).\n"
   ]
  },
  {
   "cell_type": "code",
   "execution_count": null,
   "metadata": {},
   "outputs": [],
   "source": [
    "x = np.random.rand(input_size).reshape(1, input_size)\n",
    "print(\"Input vector : {}\".format(x))\n"
   ]
  },
  {
   "attachments": {},
   "cell_type": "markdown",
   "metadata": {},
   "source": [
    "Alimentar el perceptrón con el vector de entrada, y mostrar la activación:\n"
   ]
  },
  {
   "cell_type": "code",
   "execution_count": null,
   "metadata": {},
   "outputs": [],
   "source": [
    "y = perceptron.forward(x)\n",
    "print(\"Perceptron's output value given `x` : {}\".format(y))\n"
   ]
  },
  {
   "attachments": {},
   "cell_type": "markdown",
   "metadata": {},
   "source": [
    "## Ejercicio\n",
    "\n",
    "1. Genere cuatro nuevas entradas aleatorias y pruébelas con el perceptrón.\n",
    "2. Genere cinco nuevas entradas multiplicando por 2 el valor de las entradas y pruebelas con el perceptrón.\n",
    "3. Implemente una función de activación del tipo sigmoide (pg. 29), llámela `sigmoid_function` y genere una nueva instancia del perceptrón utilizandola como función de activación.\n",
    "4. Pruebe las cinco entradas originales con este nuevo perceptrón.\n",
    "5. Pruebe el nuevo perceptrón las cinco entradas originales multiplicadas por 2. ¿Se comporta como esperaba?\n",
    "6. Explique cómo combinan estas neuronas las diferentes entradas que reciben.\n"
   ]
  }
 ],
 "metadata": {
  "kernelspec": {
   "display_name": "Python 3",
   "language": "python",
   "name": "python3"
  },
  "language_info": {
   "codemirror_mode": {
    "name": "ipython",
    "version": 3
   },
   "file_extension": ".py",
   "mimetype": "text/x-python",
   "name": "python",
   "nbconvert_exporter": "python",
   "pygments_lexer": "ipython3",
   "version": "3.10.9"
  },
  "orig_nbformat": 4,
  "vscode": {
   "interpreter": {
    "hash": "e7370f93d1d0cde622a1f8e1c04877d8463912d04d973331ad4851f04de6915a"
   }
  }
 },
 "nbformat": 4,
 "nbformat_minor": 2
}
